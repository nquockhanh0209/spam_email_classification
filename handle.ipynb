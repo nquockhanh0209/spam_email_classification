{
 "cells": [
  {
   "cell_type": "code",
   "execution_count": 15,
   "metadata": {},
   "outputs": [
    {
     "name": "stdout",
     "output_type": "stream",
     "text": [
      "      label\n",
      "0         1\n",
      "1         1\n",
      "2         1\n",
      "3         1\n",
      "4         1\n",
      "...     ...\n",
      "5166      0\n",
      "5167      0\n",
      "5168      0\n",
      "5169      0\n",
      "5170      1\n",
      "\n",
      "[10899 rows x 1 columns]\n"
     ]
    }
   ],
   "source": [
    "import pandas as pd\n",
    "f1 = pd.read_csv(\"emails.csv\")\n",
    "f2 = pd.read_csv(\"spam_ham_dataset.csv\")\n",
    "\n",
    "data= pd.concat([pd.DataFrame(f1[\"text\"], columns=[\"text\"]), pd.DataFrame(f2[\"text\"], columns=[\"text\"])])\n",
    "\n",
    "label= pd.concat([pd.DataFrame(f1[\"label\"], columns=[\"label\"]), pd.DataFrame(f2[\"label\"], columns=[\"label\"])])\n",
    "print(label)"
   ]
  },
  {
   "cell_type": "code",
   "execution_count": null,
   "metadata": {},
   "outputs": [],
   "source": []
  }
 ],
 "metadata": {
  "kernelspec": {
   "display_name": "venv",
   "language": "python",
   "name": "python3"
  },
  "language_info": {
   "codemirror_mode": {
    "name": "ipython",
    "version": 3
   },
   "file_extension": ".py",
   "mimetype": "text/x-python",
   "name": "python",
   "nbconvert_exporter": "python",
   "pygments_lexer": "ipython3",
   "version": "3.10.12"
  }
 },
 "nbformat": 4,
 "nbformat_minor": 2
}
